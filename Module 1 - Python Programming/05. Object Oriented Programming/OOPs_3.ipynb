{
 "cells": [
  {
   "cell_type": "markdown",
   "metadata": {},
   "source": [
    "# Advanced OOPs\n",
    "\n",
    "One big advantage of OOP is code reusability. It is possible due to the relationships between the classes and objects. OOP generally support 2 types of relationships:\n",
    "1. Inheritance (Compile Time)\n",
    "    - https://algodaily.com/lessons/association-aggregation-composition-casting\n",
    "    - Generalization\n",
    "    - Realization\n",
    "2. Association (Run Time)\n",
    "    - Aggregation (HAS-A)\n",
    "    - Composition (USES-A)\n",
    "\n",
    "### Inheritance\n",
    "In OOP, `IS-A relationship` represents inheritance. This means, that the child class is a type of parent class. For example, an apple is a fruit. So you will extend fruit to get apple.\n",
    "\n",
    "**Generalization** - It is also called a parent-child relationship. In generalization, one element is a specialization of another general component. It may be substituted for it. It is mostly used to represent inheritance.\n",
    "\n",
    "**Realization** - In a realization relationship, one entity denotes some responsibility which is not implemented by itself and the other entity that implements them. This relationship is mostly found in the case of interfaces.\n",
    "\n",
    "\n",
    "### Association\n",
    "\n",
    "Association relationship is dynamic (run time) binding while inheritance is a static (compile time) binding. If you just want to reuse the code and you know that the two are not of same kind use association. For example, you cannot inherit an oven from a kitchen. A kitchen HAS-A oven. When you feel there is a natural relationship like Apple is a Fruit use inheritance.\n",
    "\n",
    "Association relationship can further be divided into two types:\n",
    "1. Aggregation\n",
    "2. Composition\n",
    "\n",
    "**Aggregation** - Aggregation means creating instances which have references to other objects. Aggregation is the other form of association and is similar to composition. In aggregation, a container object again has several references to other objects. But, Aggregation is looser than composition. The objects' life cycles are not bound to each other in aggregation. Thus, the referring object may get destroyed before/after the referenced object.\n",
    "For example, a room has a table. So you will create a class room and then in that class create an instance of type table.\n",
    "\n",
    "**Composition** - Composition is a form of association that occurs when an object's life is tightly bound to another object's life. When the main object dies (i.e., is deleted), all the objects that are associated with that object also die. This means that the referenced object is solely contained by the referring object. \n",
    "For example, \n",
    "\n",
    "![relationships](img/relationships.png)"
   ]
  },
  {
   "cell_type": "code",
   "execution_count": null,
   "metadata": {},
   "outputs": [],
   "source": []
  }
 ],
 "metadata": {
  "kernelspec": {
   "display_name": "Python 3",
   "language": "python",
   "name": "python3"
  },
  "language_info": {
   "codemirror_mode": {
    "name": "ipython",
    "version": 3
   },
   "file_extension": ".py",
   "mimetype": "text/x-python",
   "name": "python",
   "nbconvert_exporter": "python",
   "pygments_lexer": "ipython3",
   "version": "3.8.5"
  }
 },
 "nbformat": 4,
 "nbformat_minor": 4
}
